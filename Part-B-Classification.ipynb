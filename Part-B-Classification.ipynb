{
 "cells": [
  {
   "cell_type": "markdown",
   "metadata": {},
   "source": [
    "1.This Notebook is for Classification the dataset downloaded for the two classes of instruments."
   ]
  },
  {
   "cell_type": "code",
   "execution_count": 79,
   "metadata": {
    "collapsed": true
   },
   "outputs": [],
   "source": [
    "%matplotlib inline\n",
    "from __future__ import print_function\n",
    "import matplotlib.pyplot as plt\n",
    "import numpy as np\n",
    "import utils\n",
    "import random\n",
    "import collections\n",
    "import numpy\n",
    "from sklearn import svm, tree\n",
    "from sklearn.feature_extraction.text import TfidfVectorizer\n",
    "from sklearn.decomposition import TruncatedSVD\n",
    "from IPython.core.display import display, HTML\n",
    "\n",
    "try:  # This is for compatiblitily python2/python3 of xrange function\n",
    "    xrange\n",
    "except NameError:\n",
    "    xrange = range"
   ]
  },
  {
   "cell_type": "markdown",
   "metadata": {},
   "source": [
    "2.Load previously created dataset"
   ]
  },
  {
   "cell_type": "code",
   "execution_count": 80,
   "metadata": {},
   "outputs": [
    {
     "name": "stdout",
     "output_type": "stream",
     "text": [
      "Loaded dataset with 2 classes:\n",
      "\tPlucked string instrument: 10 sounds\n",
      "\tBrass instrument: 10 sounds\n"
     ]
    }
   ],
   "source": [
    "# Load dataset from saved file\n",
    "DATASET_NAME = 'my_amazing_dataset'\n",
    "dataset = utils.load_from_json('%s.json' % DATASET_NAME)\n",
    "print('Loaded dataset with %i classes:' % len(dataset))\n",
    "for klass, sounds in dataset.items():\n",
    "    print('\\t%s: %i sounds' % (klass, len(sounds)))\n",
    "class_names = list(dataset.keys())  # This is just for convenience, reused later on"
   ]
  },
  {
   "cell_type": "markdown",
   "metadata": {},
   "source": [
    "3) Define vector space\n",
    "Here we create a prototype feature vector that will define the way in which our documents are represented for classification purposes."
   ]
  },
  {
   "cell_type": "code",
   "execution_count": 81,
   "metadata": {},
   "outputs": [
    {
     "name": "stdout",
     "output_type": "stream",
     "text": [
      "Created prototype feature vector with 88 dimensions (originally the space had 88 dimensions)\n",
      "Prototype vector tags (sorted by occurrence in filtered_tags):\n",
      "\t1 chord\n",
      "\t2 wagner\n",
      "\t3 yellow\n",
      "\t4 horns\n",
      "\t5 children\n",
      "\t6 hunting\n",
      "\t7 call\n",
      "\t8 symphonic\n",
      "\t9 hornblowing\n",
      "\t10 c6\n",
      "\t11 A4\n",
      "\t12 beatles\n",
      "\t13 hit\n",
      "\t14 ukulele\n",
      "\t15 game\n",
      "\t16 midi-note-67\n",
      "\t17 hunting-horns\n",
      "\t18 vsco-2\n",
      "\t19 midi-velocity-31\n",
      "\t20 opera\n",
      "\t21 acoustic\n",
      "\t22 yellow-submarine\n",
      "\t23 crescendo\n",
      "\t24 tterd\n",
      "\t25 horn\n",
      "\t26 b3\n",
      "\t27 fanfare\n",
      "\t28 scale\n",
      "\t29 staccato\n",
      "\t30 french-horns\n",
      "\t31 siegfried-call\n",
      "\t32 G\n",
      "\t33 136466\n",
      "\t34 guitar\n",
      "\t35 vibrato-sustain\n",
      "\t36 midi-velocity-62\n",
      "\t37 c\n",
      "\t38 g\n",
      "\t39 strummed\n",
      "\t40 hunting-horn\n",
      "\t41 tone\n",
      "\t42 childrens\n",
      "\t43 coaching-days\n",
      "\t44 fsharp4\n",
      "\t45 from\n",
      "\t46 Ukulele\n",
      "\t47 Dsharp4\n",
      "\t48 neumann-U87\n",
      "\t49 submarine\n",
      "\t50 live\n",
      "\t51 music\n",
      "\t52 jingle\n",
      "\t53 uke\n",
      "\t54 F\n",
      "\t55 orchestral\n",
      "\t56 Guitar\n",
      "\t57 child\n",
      "\t58 c3\n",
      "\t59 F-major\n",
      "\t60 single-note\n",
      "\t61 milton\n",
      "\t62 french-horn\n",
      "\t63 Spongebob\n",
      "\t64 siegfried\n",
      "\t65 good-sounds\n",
      "\t66 mmerung\n",
      "\t67 intro\n",
      "\t68 ukelele\n",
      "\t69 g3\n",
      "\t70 mail-coach\n",
      "\t71 trumpet\n",
      "\t72 microphone\n",
      "\t73 note\n",
      "\t74 horn-call\n",
      "\t75 bells\n",
      "\t76 electric\n",
      "\t77 1-shot\n",
      "\t78 multisample\n",
      "\t79 brass\n",
      "\t80 kid\n",
      "\t81 a\n",
      "\t82 Csharpmajor\n",
      "\t83 chords\n",
      "\t84 midi-note-84\n",
      "\t85 playing\n",
      "\t86 Spanish\n",
      "\t87 velocity\n",
      "\t88 strings\n"
     ]
    }
   ],
   "source": [
    "def build_tag_vector_space(n_dimensions, dataset, class_names): \n",
    "    # Get all tags in the dataset (the vocabulary)\n",
    "    all_tags = list()\n",
    "    for class_name in class_names:\n",
    "        class_tags = utils.get_all_tags_from_class(class_name, dataset)\n",
    "        all_tags += class_tags\n",
    "        \n",
    "    # Filter out tags with less frequency (get only top N tags)\n",
    "    most_common_tags = [tag for tag, count in collections.Counter(all_tags).most_common(n_dimensions)]\n",
    "    filtered_tags = [tag for tag in most_common_tags if tag in all_tags]\n",
    "    \n",
    "    # Build our prototype feature vector (unique list of tags), and print first 10 tags\n",
    "    prototype_feature_vector = list(set(filtered_tags))\n",
    "    print('Created prototype feature vector with %i dimensions (originally the space had %i dimensions)' % (\n",
    "        len(prototype_feature_vector), len(set(all_tags))))\n",
    "    print('Prototype vector tags (sorted by occurrence in filtered_tags):')\n",
    "    for count, tag in enumerate(prototype_feature_vector):\n",
    "        print('\\t%i %s' % (count + 1, tag))\n",
    "    return prototype_feature_vector\n",
    "\n",
    "\n",
    "NUMBER_OF_DIMENSIONS_OF_FEATURE_VECTOR = 110 # Maximum number of dimensions for the feature vector.\n",
    "\n",
    "prototype_feature_vector = build_tag_vector_space(\n",
    "    n_dimensions=NUMBER_OF_DIMENSIONS_OF_FEATURE_VECTOR,\n",
    "    dataset=dataset,\n",
    "    class_names=class_names,\n",
    ")"
   ]
  },
  {
   "cell_type": "markdown",
   "metadata": {},
   "source": [
    "5) Define train and testing set\n",
    "In this cell we create the training and test sets that will be used to train our classifier and evaluate its accuracy.\n",
    "\n",
    "PERCENTAGE_OF_TRAINING_DATA = 0.75 \n",
    "MAX_INPUT_TAGS_FOR_TESTING = 110\n",
    "\n",
    "Percentage of training data and test data is set here.  "
   ]
  },
  {
   "cell_type": "code",
   "execution_count": 82,
   "metadata": {},
   "outputs": [
    {
     "name": "stdout",
     "output_type": "stream",
     "text": [
      "Created training and testing sets with the following number of sounds:\n",
      "\tTrain\tTest\n",
      "\t7\t3\tPlucked string instrument\n",
      "\t7\t3\tBrass instrument\n"
     ]
    }
   ],
   "source": [
    "def create_train_and_test_sets(dataset, class_names, percentage_training_data, \n",
    "                               max_input_tags_for_testing):\n",
    "    training_set = dict()\n",
    "    testing_set = dict()\n",
    "\n",
    "    # Get 'n_training_sounds_per_class' sounds per class \n",
    "    for class_name, sounds in dataset.items():\n",
    "        n_training_sounds_per_class = int(len(sounds) * percentage_training_data)\n",
    "        sounds_from_class = sounds[:] # Copy the list so when we later shuffle it does not affect the original data \n",
    "        random.shuffle(sounds_from_class)\n",
    "        training_set[class_name] = sounds_from_class[:n_training_sounds_per_class] # First sounds for training\n",
    "        testing_set[class_name] = sounds_from_class[n_training_sounds_per_class:] # Following sounds for testing\n",
    "     \n",
    "        # Save a trimmed version of input tags for testing sounds\n",
    "        for sound in testing_set[class_name]:\n",
    "            sound['tags'] = random.sample(sound['tags'], min(max_input_tags_for_testing, len(sound['tags'])))\n",
    "\n",
    "    print('Created training and testing sets with the following number of sounds:\\n\\tTrain\\tTest')\n",
    "    for class_name in class_names:\n",
    "        training_sounds = training_set[class_name]\n",
    "        testing_sounds = testing_set[class_name]\n",
    "        print('\\t%i\\t%i\\t%s' % (len(training_sounds), len(testing_sounds), class_name))\n",
    "    return training_set, testing_set\n",
    "\n",
    "\n",
    "PERCENTAGE_OF_TRAINING_DATA = 0.75 # Percentage of sounds that will be used for training (others are for testing)\n",
    "MAX_INPUT_TAGS_FOR_TESTING = 110 # Use a big number to \"omit\" this parameter and use as many tags as originally are in the sound\n",
    "\n",
    "training_set, testing_set = create_train_and_test_sets(\n",
    "    dataset=dataset, \n",
    "    class_names=class_names,\n",
    "    percentage_training_data=PERCENTAGE_OF_TRAINING_DATA,\n",
    "    max_input_tags_for_testing=MAX_INPUT_TAGS_FOR_TESTING,\n",
    ")"
   ]
  },
  {
   "cell_type": "markdown",
   "metadata": {},
   "source": [
    "6) Train classifier\n",
    "Train the classifier with the training set that we prepared. User CLASSIFIER_TYPE is 'svm' here. \n",
    " \n"
   ]
  },
  {
   "cell_type": "code",
   "execution_count": 83,
   "metadata": {},
   "outputs": [
    {
     "name": "stdout",
     "output_type": "stream",
     "text": [
      "Training classifier (svm) with 14 sounds...\n",
      "done!\n"
     ]
    }
   ],
   "source": [
    "def build_tag_feature_vector(sound):\n",
    "    tag_features = utils.get_feature_vector_from_tags(sound['tags'], prototype_feature_vector)\n",
    "    return np.concatenate([[], tag_features])\n",
    "\n",
    "def train_classifier(training_set, classifier_type, class_names, dataset_name, feature_vector_func, \n",
    "                     feature_vector_dimension_labels=None, tree_max_depth=5):\n",
    "    \n",
    "    # Prepare data for fitting classifier (as sklearn classifiers require)\n",
    "    classes_vector = list()\n",
    "    feature_vectors = list()\n",
    "    for class_name, sounds in training_set.items():\n",
    "        for count, sound in enumerate(sounds):\n",
    "            # Use index of class name in class_names as numerical value (classifier internally represents \n",
    "            # class label as number)\n",
    "            classes_vector.append(class_names.index(class_name))\n",
    "            feature_vector = feature_vector_func(sound)\n",
    "            feature_vectors.append(feature_vector)\n",
    "\n",
    "    # Create and fit classifier\n",
    "    print('Training classifier (%s) with %i sounds...' % (CLASSIFIER_TYPE, len(feature_vectors)))\n",
    "    if classifier_type == 'svm':\n",
    "        classifier = svm.LinearSVC()\n",
    "        classifier.fit(feature_vectors, classes_vector)\n",
    "    elif classifier_type == 'tree':\n",
    "        classifier = tree.DecisionTreeClassifier(max_depth=tree_max_depth)\n",
    "        classifier.fit(feature_vectors, classes_vector)\n",
    "        # Plot classifier decision rules\n",
    "        # WARNING: do not run this if tree is too big, might freeze\n",
    "        out_filename = '%s_tree_%i.png' % (dataset_name, random.randint(1000,9999))\n",
    "        utils.export_tree_as_graph(\n",
    "            classifier, feature_vector_dimension_labels, class_names=class_names, filename=out_filename)\n",
    "        display(HTML('<h4>Learned tree:</h4><img src=\"%s\"/>' % out_filename))\n",
    "    else:\n",
    "        raise Exception('Bad classifier type!!!')\n",
    "    \n",
    "    print('done!')\n",
    "    return classifier\n",
    "\n",
    "CLASSIFIER_TYPE = 'svm' # Use 'svm' or 'tree'\n",
    "\n",
    "classifier = train_classifier(\n",
    "    training_set=training_set,\n",
    "    classifier_type=CLASSIFIER_TYPE, \n",
    "    class_names=class_names, \n",
    "    dataset_name=DATASET_NAME,\n",
    "    feature_vector_func=build_tag_feature_vector,\n",
    "    feature_vector_dimension_labels=prototype_feature_vector,  # This is used to show the class names in the tree image\n",
    ")"
   ]
  },
  {
   "cell_type": "markdown",
   "metadata": {},
   "source": [
    "7) Evaluate classification\n",
    "The function below evaluated the classifier build in the previous cell and shows some results.\n",
    "\n"
   ]
  },
  {
   "cell_type": "code",
   "execution_count": 84,
   "metadata": {},
   "outputs": [
    {
     "name": "stdout",
     "output_type": "stream",
     "text": [
      "Evaluating with 6 instances...\n",
      "done!\n",
      "5 correct predictions\n",
      "1 wrong predictions\n",
      "Overall accuracy 83.33%\n",
      "Confussion matrix\n"
     ]
    },
    {
     "data": {
      "image/png": "[encoded data removed]",
      "text/plain": [
       "<matplotlib.figure.Figure at 0x7f6213fb6190>"
      ]
     },
     "metadata": {},
     "output_type": "display_data"
    },
    {
     "data": {
      "text/plain": [
       "0.8333333333333334"
      ]
     },
     "execution_count": 84,
     "metadata": {},
     "output_type": "execute_result"
    }
   ],
   "source": [
    "def evaluate_classifier(testing_set, classifier, class_names, feature_vector_func, show_confussing_matrix=True):\n",
    "    # Test with testing set\n",
    "    print('Evaluating with %i instances...' % sum([len(sounds) for sounds in testing_set.values()]))\n",
    "    predicted_data = list()\n",
    "    for class_name, sounds in testing_set.items():\n",
    "        for count, sound in enumerate(sounds):\n",
    "            feature_vector = feature_vector_func(sound)\n",
    "            predicted_class_name = class_names[classifier.predict([feature_vector])[0]]\n",
    "            predicted_data.append((sound['id'], class_name, predicted_class_name))     \n",
    "    print('done!')\n",
    "\n",
    "    # Compute overall accuracy\n",
    "    good_predictions = len([1 for sid, cname, pname in predicted_data if cname == pname])\n",
    "    wrong_predictions = len([1 for sid, cname, pname in predicted_data if cname != pname])\n",
    "    print('%i correct predictions' % good_predictions)\n",
    "    print('%i wrong predictions' % wrong_predictions)\n",
    "    accuracy = float(good_predictions)/(good_predictions + wrong_predictions)\n",
    "    print('Overall accuracy %.2f%%' % (100 * accuracy))\n",
    "    \n",
    "    if show_confussing_matrix:\n",
    "        # Compute confussion matrix (further analysis)\n",
    "        matrix = list()\n",
    "        for class_name in class_names:\n",
    "            predicted_classes = list()\n",
    "            for sid, cname, pname in predicted_data:\n",
    "                if cname == class_name:\n",
    "                    predicted_classes.append(pname)\n",
    "            matrix.append([predicted_classes.count(target_class) for target_class in class_names])\n",
    "\n",
    "        # Plot confussion matrix\n",
    "        fig = plt.figure()\n",
    "        plt.clf()\n",
    "        ax = fig.add_subplot(111)\n",
    "        ax.set_aspect(1)\n",
    "        res = ax.imshow(matrix, cmap=plt.cm.Blues, interpolation='nearest')\n",
    "\n",
    "        for x in xrange(len(matrix)):\n",
    "            for y in xrange(len(matrix)):\n",
    "                ax.annotate(str(matrix[x][y]), xy=(y, x), \n",
    "                            horizontalalignment='center',\n",
    "                            verticalalignment='center')\n",
    "\n",
    "        shortened_class_names = [item[0:10] for item in class_names]\n",
    "        plt.xticks(range(len(class_names)), shortened_class_names, rotation=90)\n",
    "        plt.yticks(range(len(class_names)), shortened_class_names)\n",
    "        plt.xlabel('Predicted classes')\n",
    "        plt.ylabel('Groundtruth classes')\n",
    "\n",
    "        print('Confussion matrix')\n",
    "        plt.show()\n",
    "    \n",
    "    return accuracy\n",
    "    \n",
    "evaluate_classifier(\n",
    "    testing_set=testing_set,\n",
    "    classifier=classifier,\n",
    "    class_names=class_names,\n",
    "    feature_vector_func=build_tag_feature_vector,\n",
    ")"
   ]
  },
  {
   "cell_type": "markdown",
   "metadata": {},
   "source": [
    "Using Different Classifiers for the same dataset to compare results.\n",
    "\n",
    "SVM and Tree classifiers"
   ]
  },
  {
   "cell_type": "code",
   "execution_count": 87,
   "metadata": {},
   "outputs": [
    {
     "data": {
      "text/html": [
       "<h2>With SVM classifier</h2>"
      ],
      "text/plain": [
       "<IPython.core.display.HTML object>"
      ]
     },
     "metadata": {},
     "output_type": "display_data"
    },
    {
     "name": "stdout",
     "output_type": "stream",
     "text": [
      "Created prototype feature vector with 88 dimensions (originally the space had 88 dimensions)\n",
      "Prototype vector tags (sorted by occurrence in filtered_tags):\n",
      "\t1 chord\n",
      "\t2 wagner\n",
      "\t3 yellow\n",
      "\t4 horns\n",
      "\t5 children\n",
      "\t6 hunting\n",
      "\t7 call\n",
      "\t8 symphonic\n",
      "\t9 hornblowing\n",
      "\t10 c6\n",
      "\t11 A4\n",
      "\t12 beatles\n",
      "\t13 hit\n",
      "\t14 ukulele\n",
      "\t15 game\n",
      "\t16 midi-note-67\n",
      "\t17 hunting-horns\n",
      "\t18 vsco-2\n",
      "\t19 midi-velocity-31\n",
      "\t20 opera\n",
      "\t21 acoustic\n",
      "\t22 yellow-submarine\n",
      "\t23 crescendo\n",
      "\t24 tterd\n",
      "\t25 horn\n",
      "\t26 b3\n",
      "\t27 fanfare\n",
      "\t28 scale\n",
      "\t29 staccato\n",
      "\t30 french-horns\n",
      "\t31 siegfried-call\n",
      "\t32 G\n",
      "\t33 136466\n",
      "\t34 guitar\n",
      "\t35 vibrato-sustain\n",
      "\t36 midi-velocity-62\n",
      "\t37 c\n",
      "\t38 g\n",
      "\t39 strummed\n",
      "\t40 hunting-horn\n",
      "\t41 tone\n",
      "\t42 childrens\n",
      "\t43 coaching-days\n",
      "\t44 fsharp4\n",
      "\t45 from\n",
      "\t46 Ukulele\n",
      "\t47 Dsharp4\n",
      "\t48 neumann-U87\n",
      "\t49 submarine\n",
      "\t50 live\n",
      "\t51 music\n",
      "\t52 jingle\n",
      "\t53 uke\n",
      "\t54 F\n",
      "\t55 orchestral\n",
      "\t56 Guitar\n",
      "\t57 child\n",
      "\t58 c3\n",
      "\t59 F-major\n",
      "\t60 single-note\n",
      "\t61 milton\n",
      "\t62 french-horn\n",
      "\t63 Spongebob\n",
      "\t64 siegfried\n",
      "\t65 good-sounds\n",
      "\t66 mmerung\n",
      "\t67 intro\n",
      "\t68 ukelele\n",
      "\t69 g3\n",
      "\t70 mail-coach\n",
      "\t71 trumpet\n",
      "\t72 microphone\n",
      "\t73 note\n",
      "\t74 horn-call\n",
      "\t75 bells\n",
      "\t76 electric\n",
      "\t77 1-shot\n",
      "\t78 multisample\n",
      "\t79 brass\n",
      "\t80 kid\n",
      "\t81 a\n",
      "\t82 Csharpmajor\n",
      "\t83 chords\n",
      "\t84 midi-note-84\n",
      "\t85 playing\n",
      "\t86 Spanish\n",
      "\t87 velocity\n",
      "\t88 strings\n",
      "Created training and testing sets with the following number of sounds:\n",
      "\tTrain\tTest\n",
      "\t7\t3\tPlucked string instrument\n",
      "\t7\t3\tBrass instrument\n",
      "Training classifier (svm) with 14 sounds...\n",
      "done!\n",
      "Evaluating with 6 instances...\n",
      "done!\n",
      "5 correct predictions\n",
      "1 wrong predictions\n",
      "Overall accuracy 83.33%\n",
      "Confussion matrix\n"
     ]
    },
    {
     "data": {
      "image/png": "[encoded data removed]",
      "text/plain": [
       "<matplotlib.figure.Figure at 0x7f6213d7ca10>"
      ]
     },
     "metadata": {},
     "output_type": "display_data"
    },
    {
     "data": {
      "text/html": [
       "<h2>With TREE classifier</h2>"
      ],
      "text/plain": [
       "<IPython.core.display.HTML object>"
      ]
     },
     "metadata": {},
     "output_type": "display_data"
    },
    {
     "name": "stdout",
     "output_type": "stream",
     "text": [
      "Created prototype feature vector with 88 dimensions (originally the space had 88 dimensions)\n",
      "Prototype vector tags (sorted by occurrence in filtered_tags):\n",
      "\t1 chord\n",
      "\t2 wagner\n",
      "\t3 yellow\n",
      "\t4 horns\n",
      "\t5 children\n",
      "\t6 hunting\n",
      "\t7 call\n",
      "\t8 symphonic\n",
      "\t9 hornblowing\n",
      "\t10 c6\n",
      "\t11 A4\n",
      "\t12 beatles\n",
      "\t13 hit\n",
      "\t14 ukulele\n",
      "\t15 game\n",
      "\t16 midi-note-67\n",
      "\t17 hunting-horns\n",
      "\t18 vsco-2\n",
      "\t19 midi-velocity-31\n",
      "\t20 opera\n",
      "\t21 acoustic\n",
      "\t22 yellow-submarine\n",
      "\t23 crescendo\n",
      "\t24 tterd\n",
      "\t25 horn\n",
      "\t26 b3\n",
      "\t27 fanfare\n",
      "\t28 scale\n",
      "\t29 staccato\n",
      "\t30 french-horns\n",
      "\t31 siegfried-call\n",
      "\t32 G\n",
      "\t33 136466\n",
      "\t34 guitar\n",
      "\t35 vibrato-sustain\n",
      "\t36 midi-velocity-62\n",
      "\t37 c\n",
      "\t38 g\n",
      "\t39 strummed\n",
      "\t40 hunting-horn\n",
      "\t41 tone\n",
      "\t42 childrens\n",
      "\t43 coaching-days\n",
      "\t44 fsharp4\n",
      "\t45 from\n",
      "\t46 Ukulele\n",
      "\t47 Dsharp4\n",
      "\t48 neumann-U87\n",
      "\t49 submarine\n",
      "\t50 live\n",
      "\t51 music\n",
      "\t52 jingle\n",
      "\t53 uke\n",
      "\t54 F\n",
      "\t55 orchestral\n",
      "\t56 Guitar\n",
      "\t57 child\n",
      "\t58 c3\n",
      "\t59 F-major\n",
      "\t60 single-note\n",
      "\t61 milton\n",
      "\t62 french-horn\n",
      "\t63 Spongebob\n",
      "\t64 siegfried\n",
      "\t65 good-sounds\n",
      "\t66 mmerung\n",
      "\t67 intro\n",
      "\t68 ukelele\n",
      "\t69 g3\n",
      "\t70 mail-coach\n",
      "\t71 trumpet\n",
      "\t72 microphone\n",
      "\t73 note\n",
      "\t74 horn-call\n",
      "\t75 bells\n",
      "\t76 electric\n",
      "\t77 1-shot\n",
      "\t78 multisample\n",
      "\t79 brass\n",
      "\t80 kid\n",
      "\t81 a\n",
      "\t82 Csharpmajor\n",
      "\t83 chords\n",
      "\t84 midi-note-84\n",
      "\t85 playing\n",
      "\t86 Spanish\n",
      "\t87 velocity\n",
      "\t88 strings\n",
      "Created training and testing sets with the following number of sounds:\n",
      "\tTrain\tTest\n",
      "\t7\t3\tPlucked string instrument\n",
      "\t7\t3\tBrass instrument\n",
      "Training classifier (svm) with 14 sounds...\n"
     ]
    },
    {
     "data": {
      "text/html": [
       "<h4>Learned tree:</h4><img src=\"my_amazing_dataset_tree_2122.png\"/>"
      ],
      "text/plain": [
       "<IPython.core.display.HTML object>"
      ]
     },
     "metadata": {},
     "output_type": "display_data"
    },
    {
     "name": "stdout",
     "output_type": "stream",
     "text": [
      "done!\n",
      "Evaluating with 6 instances...\n",
      "done!\n",
      "4 correct predictions\n",
      "2 wrong predictions\n",
      "Overall accuracy 66.67%\n",
      "Confussion matrix\n"
     ]
    },
    {
     "data": {
      "image/png": "[encoded data removed]",
      "text/plain": [
       "<matplotlib.figure.Figure at 0x7f624eae6410>"
      ]
     },
     "metadata": {},
     "output_type": "display_data"
    }
   ],
   "source": [
    "NUMBER_OF_DIMENSIONS_OF_FEATURE_VECTOR = 109\n",
    "PERCENTAGE_OF_TRAINING_DATA = 0.75\n",
    "MAX_INPUT_TAGS_FOR_TESTING = 109\n",
    "\n",
    "for classifier_type in ['svm', 'tree']:  \n",
    "    display(HTML('<h2>With %s classifier</h2>' % classifier_type.upper()))\n",
    "\n",
    "    prototype_feature_vector = build_tag_vector_space(\n",
    "        n_dimensions=NUMBER_OF_DIMENSIONS_OF_FEATURE_VECTOR,\n",
    "        dataset=dataset,\n",
    "        class_names=class_names,\n",
    "    )\n",
    "    training_set, testing_set = create_train_and_test_sets(\n",
    "        dataset=dataset, \n",
    "        class_names=class_names,\n",
    "        percentage_training_data=PERCENTAGE_OF_TRAINING_DATA,\n",
    "        max_input_tags_for_testing=MAX_INPUT_TAGS_FOR_TESTING,   \n",
    "    )\n",
    "    classifier = train_classifier(\n",
    "        training_set=training_set,\n",
    "        classifier_type=classifier_type, \n",
    "        class_names=class_names, \n",
    "        dataset_name=DATASET_NAME,\n",
    "        feature_vector_func=build_tag_feature_vector,\n",
    "        feature_vector_dimension_labels=prototype_feature_vector,\n",
    "    )\n",
    "    evaluate_classifier(\n",
    "        testing_set=testing_set,\n",
    "        classifier=classifier,\n",
    "        class_names=class_names,\n",
    "        feature_vector_func=build_tag_feature_vector,\n",
    "    )"
   ]
  },
  {
   "cell_type": "markdown",
   "metadata": {},
   "source": [
    "Latent Semantic Analysis¶"
   ]
  },
  {
   "cell_type": "code",
   "execution_count": 64,
   "metadata": {
    "collapsed": true
   },
   "outputs": [],
   "source": [
    "# CODE FOR GENERATING FEATURE VECTORS WITH LATENT SEMANTIC ANALYSIS\n",
    "\n",
    "def build_latent_semantic_analysis_feature_vectors(n_dimensions, training_set, testing_set):\n",
    "    # Build latent semantic analysis (LSA) matrix factors\n",
    "    vectorizer = TfidfVectorizer(\n",
    "        sublinear_tf=True, max_df=0.5, stop_words='english', analyzer='word', max_features=50000)\n",
    "    svd = TruncatedSVD(n_components=n_dimensions, n_iter=7, random_state=42)\n",
    "\n",
    "    # Compute LSA feature vectors for training set\n",
    "    lsa_feature_vectors = list()\n",
    "    lsa_feature_vectors_sound_ids = list()\n",
    "    for class_name, sounds in training_set.items():\n",
    "        for sound in sounds:\n",
    "            lsa_feature_vectors.append(' '.join(sound['tags']))\n",
    "            lsa_feature_vectors_sound_ids.append(sound['id'])\n",
    "    X = vectorizer.fit_transform(lsa_feature_vectors)\n",
    "    lsa_feature_vectors = svd.fit_transform(X)\n",
    "    lsa_feature_vectors_dict = {sound_id:features for sound_id, features \n",
    "                                in zip(lsa_feature_vectors_sound_ids, lsa_feature_vectors)}\n",
    "\n",
    "    # Now compute LSA feature vectors for testing set (using vectorizer and svd learnt for training set)\n",
    "    lsa_feature_vectors = list()\n",
    "    lsa_feature_vectors_sound_ids = list()\n",
    "    for class_name, sounds in testing_set.items():\n",
    "        for sound in sounds:\n",
    "            lsa_feature_vectors.append(' '.join(sound['tags']))\n",
    "            lsa_feature_vectors_sound_ids.append(sound['id'])\n",
    "    X = vectorizer.transform(lsa_feature_vectors)\n",
    "    lsa_feature_vectors = svd.transform(X)\n",
    "    lsa_feature_vectors_dict.update({sound_id:features for sound_id, features \n",
    "                                     in zip(lsa_feature_vectors_sound_ids, lsa_feature_vectors)})\n",
    "\n",
    "    print('Built LSA feature vectors for %i sounds!' % len(lsa_feature_vectors_dict))\n",
    "    return lsa_feature_vectors_dict"
   ]
  },
  {
   "cell_type": "code",
   "execution_count": 90,
   "metadata": {},
   "outputs": [
    {
     "data": {
      "text/html": [
       "<h2>With Latent Semantic Analysis</h2>"
      ],
      "text/plain": [
       "<IPython.core.display.HTML object>"
      ]
     },
     "metadata": {},
     "output_type": "display_data"
    },
    {
     "name": "stdout",
     "output_type": "stream",
     "text": [
      "Built LSA feature vectors for 20 sounds!\n",
      "Created training and testing sets with the following number of sounds:\n",
      "\tTrain\tTest\n",
      "\t7\t3\tPlucked string instrument\n",
      "\t7\t3\tBrass instrument\n",
      "Training classifier (tree) with 14 sounds...\n"
     ]
    },
    {
     "data": {
      "text/html": [
       "<h4>Learned tree:</h4><img src=\"my_amazing_dataset_tree_8977.png\"/>"
      ],
      "text/plain": [
       "<IPython.core.display.HTML object>"
      ]
     },
     "metadata": {},
     "output_type": "display_data"
    },
    {
     "name": "stdout",
     "output_type": "stream",
     "text": [
      "done!\n",
      "Evaluating with 6 instances...\n",
      "done!\n",
      "5 correct predictions\n",
      "1 wrong predictions\n",
      "Overall accuracy 83.33%\n",
      "Confussion matrix\n"
     ]
    },
    {
     "data": {
      "image/png": "[encoded data removed]",
      "text/plain": [
       "<matplotlib.figure.Figure at 0x7f6213ee0550>"
      ]
     },
     "metadata": {},
     "output_type": "display_data"
    },
    {
     "data": {
      "text/plain": [
       "0.8333333333333334"
      ]
     },
     "execution_count": 90,
     "metadata": {},
     "output_type": "execute_result"
    }
   ],
   "source": [
    "# EXAMPLE EXPERIMENT USING LATENT SEMANTIC ANALYSIS\n",
    "\n",
    "display(HTML('<h2>With Latent Semantic Analysis</h2>'))\n",
    "\n",
    "NUMBER_OF_DIMENSIONS_OF_FEATURE_VECTOR = 20\n",
    "CLASSIFIER_TYPE = 'tree'\n",
    "PERCENTAGE_OF_TRAINING_DATA = 0.75\n",
    "MAX_INPUT_TAGS_FOR_TESTING = 40\n",
    "\n",
    "def build_lsa_feature_vector(sound):\n",
    "    lsa_features = lsa_feature_vectors_dict[sound['id']]\n",
    "    return np.concatenate([[], lsa_features])\n",
    "\n",
    "lsa_feature_vectors_dict = build_latent_semantic_analysis_feature_vectors(\n",
    "    n_dimensions=NUMBER_OF_DIMENSIONS_OF_FEATURE_VECTOR, training_set=training_set, testing_set=testing_set,)\n",
    "\n",
    "training_set, testing_set = create_train_and_test_sets(\n",
    "    dataset=dataset, class_names=class_names,\n",
    "    percentage_training_data=PERCENTAGE_OF_TRAINING_DATA, max_input_tags_for_testing=MAX_INPUT_TAGS_FOR_TESTING)\n",
    "classifier = train_classifier(\n",
    "    training_set=training_set, classifier_type=CLASSIFIER_TYPE, class_names=class_names, dataset_name=DATASET_NAME,\n",
    "    feature_vector_func=build_lsa_feature_vector,\n",
    ")\n",
    "evaluate_classifier(\n",
    "    testing_set=testing_set, classifier=classifier, class_names=class_names, \n",
    "    feature_vector_func=build_lsa_feature_vector)"
   ]
  },
  {
   "cell_type": "markdown",
   "metadata": {},
   "source": [
    "Using audio features as downloaded during dataset creation"
   ]
  },
  {
   "cell_type": "code",
   "execution_count": 67,
   "metadata": {},
   "outputs": [
    {
     "data": {
      "text/html": [
       "<h2>With Duration as feature</h2>"
      ],
      "text/plain": [
       "<IPython.core.display.HTML object>"
      ]
     },
     "metadata": {},
     "output_type": "display_data"
    },
    {
     "name": "stdout",
     "output_type": "stream",
     "text": [
      "Created prototype feature vector with 40 dimensions (originally the space had 94 dimensions)\n",
      "Prototype vector tags (sorted by occurrence in filtered_tags):\n",
      "\t1 concert\n",
      "\t2 chord\n",
      "\t3 strum\n",
      "\t4 horn-call\n",
      "\t5 160bpm\n",
      "\t6 horn\n",
      "\t7 horn-solo\n",
      "\t8 mezzoforte\n",
      "\t9 pitch\n",
      "\t10 d4\n",
      "\t11 trumpet\n",
      "\t12 strumming\n",
      "\t13 string\n",
      "\t14 pitch-bend\n",
      "\t15 delay\n",
      "\t16 neumann-U87\n",
      "\t17 spread\n",
      "\t18 A4\n",
      "\t19 non-vibrato\n",
      "\t20 single-note\n",
      "\t21 4\n",
      "\t22 electric\n",
      "\t23 ukulele\n",
      "\t24 valve-trill\n",
      "\t25 guitar\n",
      "\t26 midi-velocity-95\n",
      "\t27 multisample\n",
      "\t28 key-of-a\n",
      "\t29 power-chord\n",
      "\t30 brass\n",
      "\t31 distortion\n",
      "\t32 room-mic\n",
      "\t33 midi-note-67\n",
      "\t34 french-horn\n",
      "\t35 vsco-2\n",
      "\t36 arpeggio\n",
      "\t37 open-chords\n",
      "\t38 rock\n",
      "\t39 acoustic\n",
      "\t40 good-sounds\n",
      "Created training and testing sets with the following number of sounds:\n",
      "\tTrain\tTest\n",
      "\t7\t3\tPlucked string instrument\n",
      "\t7\t3\tBrass instrument\n"
     ]
    },
    {
     "ename": "KeyError",
     "evalue": "'sfx'",
     "output_type": "error",
     "traceback": [
      "\u001b[0;31m---------------------------------------------------------------------------\u001b[0m",
      "\u001b[0;31mKeyError\u001b[0m                                  Traceback (most recent call last)",
      "\u001b[0;32m<ipython-input-67-8c2040b46858>\u001b[0m in \u001b[0;36m<module>\u001b[0;34m()\u001b[0m\n\u001b[1;32m     38\u001b[0m classifier = train_classifier(\n\u001b[1;32m     39\u001b[0m     \u001b[0mtraining_set\u001b[0m\u001b[0;34m=\u001b[0m\u001b[0mtraining_set\u001b[0m\u001b[0;34m,\u001b[0m \u001b[0mclassifier_type\u001b[0m\u001b[0;34m=\u001b[0m\u001b[0mCLASSIFIER_TYPE\u001b[0m\u001b[0;34m,\u001b[0m \u001b[0mclass_names\u001b[0m\u001b[0;34m=\u001b[0m\u001b[0mclass_names\u001b[0m\u001b[0;34m,\u001b[0m \u001b[0mdataset_name\u001b[0m\u001b[0;34m=\u001b[0m\u001b[0mDATASET_NAME\u001b[0m\u001b[0;34m,\u001b[0m\u001b[0;34m\u001b[0m\u001b[0m\n\u001b[0;32m---> 40\u001b[0;31m     \u001b[0mfeature_vector_func\u001b[0m\u001b[0;34m=\u001b[0m\u001b[0mbuild_feature_vector\u001b[0m\u001b[0;34m,\u001b[0m \u001b[0mfeature_vector_dimension_labels\u001b[0m\u001b[0;34m=\u001b[0m\u001b[0mfeature_names\u001b[0m\u001b[0;34m\u001b[0m\u001b[0m\n\u001b[0m\u001b[1;32m     41\u001b[0m )\n\u001b[1;32m     42\u001b[0m \u001b[0;34m\u001b[0m\u001b[0m\n",
      "\u001b[0;32m<ipython-input-59-a74fdb205289>\u001b[0m in \u001b[0;36mtrain_classifier\u001b[0;34m(training_set, classifier_type, class_names, dataset_name, feature_vector_func, feature_vector_dimension_labels, tree_max_depth)\u001b[0m\n\u001b[1;32m     14\u001b[0m             \u001b[0;31m# class label as number)\u001b[0m\u001b[0;34m\u001b[0m\u001b[0;34m\u001b[0m\u001b[0m\n\u001b[1;32m     15\u001b[0m             \u001b[0mclasses_vector\u001b[0m\u001b[0;34m.\u001b[0m\u001b[0mappend\u001b[0m\u001b[0;34m(\u001b[0m\u001b[0mclass_names\u001b[0m\u001b[0;34m.\u001b[0m\u001b[0mindex\u001b[0m\u001b[0;34m(\u001b[0m\u001b[0mclass_name\u001b[0m\u001b[0;34m)\u001b[0m\u001b[0;34m)\u001b[0m\u001b[0;34m\u001b[0m\u001b[0m\n\u001b[0;32m---> 16\u001b[0;31m             \u001b[0mfeature_vector\u001b[0m \u001b[0;34m=\u001b[0m \u001b[0mfeature_vector_func\u001b[0m\u001b[0;34m(\u001b[0m\u001b[0msound\u001b[0m\u001b[0;34m)\u001b[0m\u001b[0;34m\u001b[0m\u001b[0m\n\u001b[0m\u001b[1;32m     17\u001b[0m             \u001b[0mfeature_vectors\u001b[0m\u001b[0;34m.\u001b[0m\u001b[0mappend\u001b[0m\u001b[0;34m(\u001b[0m\u001b[0mfeature_vector\u001b[0m\u001b[0;34m)\u001b[0m\u001b[0;34m\u001b[0m\u001b[0m\n\u001b[1;32m     18\u001b[0m \u001b[0;34m\u001b[0m\u001b[0m\n",
      "\u001b[0;32m<ipython-input-67-8c2040b46858>\u001b[0m in \u001b[0;36mbuild_feature_vector\u001b[0;34m(sound)\u001b[0m\n\u001b[1;32m     10\u001b[0m \u001b[0;32mdef\u001b[0m \u001b[0mbuild_feature_vector\u001b[0m\u001b[0;34m(\u001b[0m\u001b[0msound\u001b[0m\u001b[0;34m)\u001b[0m\u001b[0;34m:\u001b[0m\u001b[0;34m\u001b[0m\u001b[0m\n\u001b[1;32m     11\u001b[0m     \u001b[0mtag_features\u001b[0m \u001b[0;34m=\u001b[0m \u001b[0mutils\u001b[0m\u001b[0;34m.\u001b[0m\u001b[0mget_feature_vector_from_tags\u001b[0m\u001b[0;34m(\u001b[0m\u001b[0msound\u001b[0m\u001b[0;34m[\u001b[0m\u001b[0;34m'tags'\u001b[0m\u001b[0;34m]\u001b[0m\u001b[0;34m,\u001b[0m \u001b[0mprototype_feature_vector\u001b[0m\u001b[0;34m)\u001b[0m\u001b[0;34m\u001b[0m\u001b[0m\n\u001b[0;32m---> 12\u001b[0;31m     \u001b[0mduration\u001b[0m \u001b[0;34m=\u001b[0m \u001b[0msound\u001b[0m\u001b[0;34m[\u001b[0m\u001b[0;34m'analysis'\u001b[0m\u001b[0;34m]\u001b[0m\u001b[0;34m[\u001b[0m\u001b[0;34m'sfx'\u001b[0m\u001b[0;34m]\u001b[0m\u001b[0;34m[\u001b[0m\u001b[0;34m'duration'\u001b[0m\u001b[0;34m]\u001b[0m\u001b[0;34m\u001b[0m\u001b[0m\n\u001b[0m\u001b[1;32m     13\u001b[0m     \u001b[0;31m# Some sounds seem to have no duration value (no analysis), in this case we sould probably remove them from the dataset\u001b[0m\u001b[0;34m\u001b[0m\u001b[0;34m\u001b[0m\u001b[0m\n\u001b[1;32m     14\u001b[0m     \u001b[0;32mreturn\u001b[0m \u001b[0mnp\u001b[0m\u001b[0;34m.\u001b[0m\u001b[0mconcatenate\u001b[0m\u001b[0;34m(\u001b[0m\u001b[0;34m[\u001b[0m\u001b[0;34m[\u001b[0m\u001b[0;34m]\u001b[0m\u001b[0;34m,\u001b[0m \u001b[0mtag_features\u001b[0m\u001b[0;34m,\u001b[0m \u001b[0mnumpy\u001b[0m\u001b[0;34m.\u001b[0m\u001b[0marray\u001b[0m\u001b[0;34m(\u001b[0m\u001b[0;34m[\u001b[0m\u001b[0mduration\u001b[0m\u001b[0;34m]\u001b[0m\u001b[0;34m)\u001b[0m\u001b[0;34m]\u001b[0m\u001b[0;34m)\u001b[0m\u001b[0;34m\u001b[0m\u001b[0m\n",
      "\u001b[0;31mKeyError\u001b[0m: 'sfx'"
     ]
    }
   ],
   "source": [
    "# Expriment using duration\n",
    "\n",
    "display(HTML('<h2>With Duration as feature</h2>'))\n",
    "\n",
    "CLASSIFIER_TYPE = 'tree'\n",
    "PERCENTAGE_OF_TRAINING_DATA = 0.75\n",
    "NUMBER_OF_DIMENSIONS_OF_FEATURE_VECTOR = 40\n",
    "MAX_INPUT_TAGS_FOR_TESTING = 20\n",
    "\n",
    "def build_feature_vector(sound):\n",
    "    tag_features = utils.get_feature_vector_from_tags(sound['tags'], prototype_feature_vector)\n",
    "    duration = sound['analysis']['sfx']['duration']\n",
    "    # Some sounds seem to have no duration value (no analysis), in this case we sould probably remove them from the dataset\n",
    "    return np.concatenate([[], tag_features, numpy.array([duration])])\n",
    "\n",
    "# CODE TO CLEAN DATASET (remove sounds which do not have analysis information)\n",
    "dataset_cleaned = {}\n",
    "for key, sounds in dataset.items():\n",
    "    if key not in dataset_cleaned:\n",
    "        dataset_cleaned[key] = []\n",
    "    for sound in sounds:\n",
    "        if sound['analysis'] is not None:\n",
    "            dataset_cleaned[key].append(sound)\n",
    "\n",
    "prototype_feature_vector = []\n",
    "prototype_feature_vector = build_tag_vector_space(\n",
    "    n_dimensions=NUMBER_OF_DIMENSIONS_OF_FEATURE_VECTOR,\n",
    "    dataset=dataset,\n",
    "    class_names=class_names\n",
    ")\n",
    "\n",
    "training_set, testing_set = create_train_and_test_sets(\n",
    "    dataset=dataset_cleaned, class_names=class_names,\n",
    "    percentage_training_data=PERCENTAGE_OF_TRAINING_DATA, max_input_tags_for_testing=MAX_INPUT_TAGS_FOR_TESTING)\n",
    "\n",
    "feature_names = prototype_feature_vector[:]\n",
    "feature_names.append('duration')\n",
    "classifier = train_classifier(\n",
    "    training_set=training_set, classifier_type=CLASSIFIER_TYPE, class_names=class_names, dataset_name=DATASET_NAME,\n",
    "    feature_vector_func=build_feature_vector, feature_vector_dimension_labels=feature_names\n",
    ")\n",
    "\n",
    "evaluate_classifier(\n",
    "    testing_set=testing_set, classifier=classifier, class_names=class_names, \n",
    "    feature_vector_func=build_feature_vector)"
   ]
  },
  {
   "cell_type": "code",
   "execution_count": null,
   "metadata": {
    "collapsed": true
   },
   "outputs": [],
   "source": [
    "I am unable to detect why the code above is showing err as it should be fine."
   ]
  }
 ],
 "metadata": {
  "kernelspec": {
   "display_name": "Python 3",
   "language": "python",
   "name": "python3"
  },
  "language_info": {
   "codemirror_mode": {
    "name": "ipython",
    "version": 2
   },
   "file_extension": ".py",
   "mimetype": "text/x-python",
   "name": "python",
   "nbconvert_exporter": "python",
   "pygments_lexer": "ipython2",
   "version": "2.7.14"
  }
 },
 "nbformat": 4,
 "nbformat_minor": 2
}
