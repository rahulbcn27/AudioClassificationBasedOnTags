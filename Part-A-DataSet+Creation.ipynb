{
 "cells": [
  {
   "cell_type": "code",
   "execution_count": 11,
   "metadata": {
    "collapsed": true
   },
   "outputs": [],
   "source": [
    "from __future__ import print_function\n",
    "import freesound\n",
    "import random\n",
    "import utils\n",
    "import json\n",
    "from IPython.core.display import display, HTML\n",
    "from collections import defaultdict\n",
    "\n",
    "API_KEY='rKDsIRp9pAJ5RzgdDZWcKfozpVisSCbs28ewvbFa'\n",
    "c = freesound.FreesoundClient()\n",
    "c.set_token(API_KEY,\"token\")\n",
    "PAGE_SIZE = 50 # Page size for fs requests, no need to change that"
   ]
  },
  {
   "cell_type": "markdown",
   "metadata": {},
   "source": [
    "Create Freesound Api client ."
   ]
  },
  {
   "cell_type": "code",
   "execution_count": 12,
   "metadata": {},
   "outputs": [
    {
     "name": "stdout",
     "output_type": "stream",
     "text": [
      "Getting sounds' data for class Brass instrument...\n",
      "Getting sounds' data for class Plucked string instrument...\n",
      "\n",
      "Dataset created with 2 classes:\n",
      "\tPlucked string instrument: 10 sounds\n",
      "\tBrass instrument: 10 sounds\n",
      "Saved to my_amazing_dataset.json\n"
     ]
    }
   ],
   "source": [
    "# Configure dataset parameters and audio categories\n",
    "\n",
    "DATASET_NAME = 'my_amazing_dataset' # Dataset will be saved in a .json file with this name\n",
    "N = 10 # Number of sounds per class (set 'None' to get all in dataset)\n",
    "DATASET_CLASSES = [\n",
    "    #''Percussion', \n",
    "    'Brass instrument', \n",
    "    #'Wind instrument, woodwind instrument', \n",
    "    #'Bowed string instrument', \n",
    "    'Plucked string instrument', \n",
    "    #'Singing', \n",
    "    #'Speech', \n",
    "    #'Domestic sounds, home sounds', \n",
    "    #'Vehicle', \n",
    "    #'Generic impact sounds', \n",
    "    #'Mechanisms'\n",
    "]  \n",
    "\n",
    "# Get sound examples from Freesound\n",
    "data_index =  json.load(open('data_index.json'))\n",
    "dataset = defaultdict(list)\n",
    "\n",
    "for klass in DATASET_CLASSES:\n",
    "    sound_ids = data_index.get(klass, None)\n",
    "    if sound_ids is None:\n",
    "        print('Skipping class %s as no data is available for it' % klass)\n",
    "        continue\n",
    "    random.shuffle(sound_ids)  # Shuffle order of sound ids\n",
    "    sound_ids = sound_ids[:N]  # Limit number of selected sound ids\n",
    "    \n",
    "    print('Getting sounds\\' data for class %s...' % klass)\n",
    "    for i in range(0, len(sound_ids), PAGE_SIZE):\n",
    "        current_sound_ids = sound_ids[i:i + PAGE_SIZE]\n",
    "    \n",
    "        fields = \"id,tags,description,username,analysis\"\n",
    "        descriptors = \"lowlevel.spectral_centroid,lowlevel.barkbands.mean\"\n",
    "        results_pager = c.text_search(\n",
    "            filter='id:(%s)' % ' OR '.join([str(sid) for sid in current_sound_ids]),\n",
    "            page_size=PAGE_SIZE,\n",
    "            fields = fields, descriptors=descriptors\n",
    "        )\n",
    "        dataset[klass] += results_pager.results\n",
    "\n",
    "        # TIP ON AUDIO FEATURES: you can get also audio features extracted in freesound by passing a 'descriptors' \n",
    "        # parameter in the text_search function and including 'analysis' in the fields list \n",
    "        # (see http://www.freesound.org/docs/api/resources_apiv2.html#response-sound-list):\n",
    "        #\n",
    "        # fields = \"id,tags,description,username,analysis\"\n",
    "        # descriptors = \"lowlevel.spectral_centroid,lowlevel.barkbands.mean\"\n",
    "        #\n",
    "        # e.g.: results_page = c.text_search(query=target_query, ..., fields=fields, descriptors=descriptors)\n",
    "        # ...\n",
    "\n",
    "# Show information and save dataset to file so we can work with it later on\n",
    "utils.save_to_json('%s.json' % DATASET_NAME, dataset)\n",
    "print('\\nDataset created with %i classes:' % len(dataset))\n",
    "for klass, sounds in dataset.items():\n",
    "    print('\\t%s: %i sounds' % (klass, len(sounds)))\n",
    "print('Saved to %s' % '%s.json' % DATASET_NAME)"
   ]
  },
  {
   "cell_type": "markdown",
   "metadata": {},
   "source": [
    "I have choosen two dataset classes : 1. Brass instrument 2.Plucked string instrument .I am downloading 10 sounds per each dataset. These two classes have sounds very different from one another so it would be nice to see the classification results."
   ]
  },
  {
   "cell_type": "markdown",
   "metadata": {},
   "source": [
    "Explore the dataset"
   ]
  },
  {
   "cell_type": "code",
   "execution_count": 13,
   "metadata": {},
   "outputs": [
    {
     "data": {
      "text/html": [
       "<h3 style='color:#bbb;'>1) Plucked string instrument</h3><h4>Example sounds:</h4><br><iframe frameborder=\"0\" scrolling=\"no\" src=\"http://www.freesound.org/embed/sound/iframe/251061/simple/medium/\" width=\"481\" height=\"86\"></iframe><iframe frameborder=\"0\" scrolling=\"no\" src=\"http://www.freesound.org/embed/sound/iframe/219329/simple/medium/\" width=\"481\" height=\"86\"></iframe><iframe frameborder=\"0\" scrolling=\"no\" src=\"http://www.freesound.org/embed/sound/iframe/183000/simple/medium/\" width=\"481\" height=\"86\"></iframe><iframe frameborder=\"0\" scrolling=\"no\" src=\"http://www.freesound.org/embed/sound/iframe/48316/simple/medium/\" width=\"481\" height=\"86\"></iframe><iframe frameborder=\"0\" scrolling=\"no\" src=\"http://www.freesound.org/embed/sound/iframe/58035/simple/medium/\" width=\"481\" height=\"86\"></iframe><iframe frameborder=\"0\" scrolling=\"no\" src=\"http://www.freesound.org/embed/sound/iframe/58039/simple/medium/\" width=\"481\" height=\"86\"></iframe><h4>Most commons tags tagcloud:</h4><br><span style=\"font-size:10px;margin-right:10px;\">uke</span> <span style=\"font-size:10px;margin-right:10px;\">bells</span> <span style=\"font-size:15px;margin-right:10px;\">strummed</span> <span style=\"font-size:11px;margin-right:10px;\">chord</span> <span style=\"font-size:10px;margin-right:10px;\">Spongebob</span> <span style=\"font-size:10px;margin-right:10px;\">hit</span> <span style=\"font-size:11px;margin-right:10px;\">multisample</span> <span style=\"font-size:10px;margin-right:10px;\">game</span> <span style=\"font-size:10px;margin-right:10px;\">milton</span> <span style=\"font-size:30px;margin-right:10px;\">guitar</span> <span style=\"font-size:10px;margin-right:10px;\">Spanish</span> <span style=\"font-size:10px;margin-right:10px;\">microphone</span> <span style=\"font-size:10px;margin-right:10px;\">ukelele</span> <span style=\"font-size:11px;margin-right:10px;\">strings</span> <span style=\"font-size:10px;margin-right:10px;\">velocity</span> <span style=\"font-size:10px;margin-right:10px;\">136466</span> <span style=\"font-size:10px;margin-right:10px;\">yellow</span> <span style=\"font-size:10px;margin-right:10px;\">child</span> <span style=\"font-size:10px;margin-right:10px;\">1-shot</span> <span style=\"font-size:10px;margin-right:10px;\">chords</span> <span style=\"font-size:26px;margin-right:10px;\">acoustic</span> <span style=\"font-size:10px;margin-right:10px;\">yellow-submarine</span> <span style=\"font-size:10px;margin-right:10px;\">kid</span> <span style=\"font-size:10px;margin-right:10px;\">ukulele</span> <span style=\"font-size:10px;margin-right:10px;\">beatles</span> <span style=\"font-size:10px;margin-right:10px;\">jingle</span> <span style=\"font-size:10px;margin-right:10px;\">submarine</span> <span style=\"font-size:10px;margin-right:10px;\">Ukulele</span> <span style=\"font-size:10px;margin-right:10px;\">a</span> <span style=\"font-size:10px;margin-right:10px;\">from</span> <span style=\"font-size:11px;margin-right:10px;\">Guitar</span> <span style=\"font-size:10px;margin-right:10px;\">children</span> <span style=\"font-size:10px;margin-right:10px;\">live</span> <span style=\"font-size:10px;margin-right:10px;\">childrens</span> <span style=\"font-size:10px;margin-right:10px;\">electric</span> <span style=\"font-size:11px;margin-right:10px;\">music</span> <span style=\"font-size:10px;margin-right:10px;\">playing</span> <br><br>"
      ],
      "text/plain": [
       "<IPython.core.display.HTML object>"
      ]
     },
     "metadata": {},
     "output_type": "display_data"
    },
    {
     "data": {
      "text/html": [
       "<h3 style='color:#bbb;'>2) Brass instrument</h3><h4>Example sounds:</h4><br><iframe frameborder=\"0\" scrolling=\"no\" src=\"http://www.freesound.org/embed/sound/iframe/357625/simple/medium/\" width=\"481\" height=\"86\"></iframe><iframe frameborder=\"0\" scrolling=\"no\" src=\"http://www.freesound.org/embed/sound/iframe/374076/simple/medium/\" width=\"481\" height=\"86\"></iframe><iframe frameborder=\"0\" scrolling=\"no\" src=\"http://www.freesound.org/embed/sound/iframe/374173/simple/medium/\" width=\"481\" height=\"86\"></iframe><iframe frameborder=\"0\" scrolling=\"no\" src=\"http://www.freesound.org/embed/sound/iframe/361394/simple/medium/\" width=\"481\" height=\"86\"></iframe><iframe frameborder=\"0\" scrolling=\"no\" src=\"http://www.freesound.org/embed/sound/iframe/361685/simple/medium/\" width=\"481\" height=\"86\"></iframe><iframe frameborder=\"0\" scrolling=\"no\" src=\"http://www.freesound.org/embed/sound/iframe/362187/simple/medium/\" width=\"481\" height=\"86\"></iframe><h4>Most commons tags tagcloud:</h4><br><span style=\"font-size:14px;margin-right:10px;\">note</span> <span style=\"font-size:19px;margin-right:10px;\">tone</span> <span style=\"font-size:10px;margin-right:10px;\">siegfried-call</span> <span style=\"font-size:10px;margin-right:10px;\">midi-note-84</span> <span style=\"font-size:10px;margin-right:10px;\">symphonic</span> <span style=\"font-size:10px;margin-right:10px;\">orchestral</span> <span style=\"font-size:10px;margin-right:10px;\">c6</span> <span style=\"font-size:30px;margin-right:10px;\">trumpet</span> <span style=\"font-size:10px;margin-right:10px;\">staccato</span> <span style=\"font-size:24px;margin-right:10px;\">horn</span> <span style=\"font-size:10px;margin-right:10px;\">midi-velocity-31</span> <span style=\"font-size:10px;margin-right:10px;\">hunting-horn</span> <span style=\"font-size:10px;margin-right:10px;\">c3</span> <span style=\"font-size:10px;margin-right:10px;\">french-horns</span> <span style=\"font-size:10px;margin-right:10px;\">tterd</span> <span style=\"font-size:10px;margin-right:10px;\">g</span> <span style=\"font-size:10px;margin-right:10px;\">coaching-days</span> <span style=\"font-size:10px;margin-right:10px;\">opera</span> <span style=\"font-size:24px;margin-right:10px;\">multisample</span> <span style=\"font-size:10px;margin-right:10px;\">vibrato-sustain</span> <span style=\"font-size:10px;margin-right:10px;\">wagner</span> <span style=\"font-size:10px;margin-right:10px;\">scale</span> <span style=\"font-size:10px;margin-right:10px;\">intro</span> <span style=\"font-size:10px;margin-right:10px;\">crescendo</span> <span style=\"font-size:10px;margin-right:10px;\">call</span> <span style=\"font-size:10px;margin-right:10px;\">horns</span> <span style=\"font-size:24px;margin-right:10px;\">french-horn</span> <span style=\"font-size:10px;margin-right:10px;\">b3</span> <span style=\"font-size:19px;margin-right:10px;\">brass</span> <span style=\"font-size:10px;margin-right:10px;\">F</span> <span style=\"font-size:10px;margin-right:10px;\">G</span> <span style=\"font-size:10px;margin-right:10px;\">A4</span> <span style=\"font-size:10px;margin-right:10px;\">g3</span> <span style=\"font-size:10px;margin-right:10px;\">fanfare</span> <span style=\"font-size:10px;margin-right:10px;\">horn-call</span> <span style=\"font-size:10px;margin-right:10px;\">midi-velocity-62</span> <span style=\"font-size:10px;margin-right:10px;\">mail-coach</span> <span style=\"font-size:10px;margin-right:10px;\">hunting-horns</span> <span style=\"font-size:10px;margin-right:10px;\">mmerung</span> <span style=\"font-size:24px;margin-right:10px;\">single-note</span> <span style=\"font-size:10px;margin-right:10px;\">c</span> <span style=\"font-size:10px;margin-right:10px;\">hunting</span> <span style=\"font-size:10px;margin-right:10px;\">siegfried</span> <span style=\"font-size:14px;margin-right:10px;\">vsco-2</span> <span style=\"font-size:10px;margin-right:10px;\">Dsharp4</span> <span style=\"font-size:10px;margin-right:10px;\">F-major</span> <span style=\"font-size:10px;margin-right:10px;\">midi-note-67</span> <span style=\"font-size:10px;margin-right:10px;\">Csharpmajor</span> <span style=\"font-size:10px;margin-right:10px;\">fsharp4</span> <span style=\"font-size:10px;margin-right:10px;\">hornblowing</span> <span style=\"font-size:19px;margin-right:10px;\">good-sounds</span> <span style=\"font-size:19px;margin-right:10px;\">neumann-U87</span> <br><br>"
      ],
      "text/plain": [
       "<IPython.core.display.HTML object>"
      ]
     },
     "metadata": {},
     "output_type": "display_data"
    }
   ],
   "source": [
    "# Pick some sounds from each category and show players (Freesound embeds) to listen to them\n",
    "for count, (class_name, sounds) in enumerate(dataset.items()):\n",
    "    html = \"<h3 style='color:#bbb;'>%i) %s</h3>\" % (count + 1, class_name)\n",
    "    html += \"<h4>Example sounds:</h4><br>\"\n",
    "    html += utils.generate_html_with_sound_examples([sound['id'] for sound in sounds][:6])\n",
    "    html += \"<h4>Most commons tags tagcloud:</h4><br>\"\n",
    "    class_tags = utils.get_all_tags_from_class(class_name, dataset)\n",
    "    html += utils.generate_html_tagcloud(class_tags, N=100, max_px=30, min_px=10, pow_scale=1.2)\n",
    "    html += \"<br><br>\"\n",
    "    display(HTML(html)) # <- This is pure jupyter notebook AWESOMENESS which renders the HTML in the output of the cell"
   ]
  },
  {
   "cell_type": "code",
   "execution_count": null,
   "metadata": {
    "collapsed": true
   },
   "outputs": [],
   "source": []
  },
  {
   "cell_type": "code",
   "execution_count": null,
   "metadata": {
    "collapsed": true
   },
   "outputs": [],
   "source": []
  },
  {
   "cell_type": "code",
   "execution_count": null,
   "metadata": {
    "collapsed": true
   },
   "outputs": [],
   "source": []
  }
 ],
 "metadata": {
  "kernelspec": {
   "display_name": "Python 3",
   "language": "python",
   "name": "python3"
  },
  "language_info": {
   "codemirror_mode": {
    "name": "ipython",
    "version": 2
   },
   "file_extension": ".py",
   "mimetype": "text/x-python",
   "name": "python",
   "nbconvert_exporter": "python",
   "pygments_lexer": "ipython2",
   "version": "2.7.14"
  }
 },
 "nbformat": 4,
 "nbformat_minor": 2
}
